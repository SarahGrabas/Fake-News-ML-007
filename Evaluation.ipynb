{
 "cells": [
  {
   "cell_type": "code",
   "execution_count": 21,
   "metadata": {},
   "outputs": [],
   "source": [
    "import pandas as pd\n",
    "from nltk import bigrams\n",
    "from nltk.tokenize import word_tokenize\n",
    "from collections import Counter\n",
    "from sklearn.feature_extraction.text import TfidfVectorizer"
   ]
  },
  {
   "cell_type": "code",
   "execution_count": null,
   "metadata": {},
   "outputs": [],
   "source": [
    "df_liar = pd.read_csv(\"liar_cleaned.csv\")"
   ]
  },
  {
   "cell_type": "code",
   "execution_count": 46,
   "metadata": {},
   "outputs": [],
   "source": [
    "df_test = pd.read_csv(\"full_test_cleaned.csv\")"
   ]
  },
  {
   "cell_type": "code",
   "execution_count": 47,
   "metadata": {},
   "outputs": [
    {
     "data": {
      "text/plain": [
       "count    10240.000000\n",
       "mean        10.650000\n",
       "std          5.557235\n",
       "min          1.000000\n",
       "25%          7.000000\n",
       "50%         10.000000\n",
       "75%         13.000000\n",
       "max        278.000000\n",
       "Name: Statement, dtype: float64"
      ]
     },
     "execution_count": 47,
     "metadata": {},
     "output_type": "execute_result"
    }
   ],
   "source": [
    "df_liar[\"Statement\"].str.split().str.len().describe()"
   ]
  },
  {
   "cell_type": "code",
   "execution_count": 48,
   "metadata": {},
   "outputs": [
    {
     "data": {
      "text/plain": [
       "count    90368.000000\n",
       "mean       261.152975\n",
       "std        366.509396\n",
       "min          2.000000\n",
       "25%         65.000000\n",
       "50%        170.000000\n",
       "75%        340.000000\n",
       "max       9721.000000\n",
       "Name: content, dtype: float64"
      ]
     },
     "execution_count": 48,
     "metadata": {},
     "output_type": "execute_result"
    }
   ],
   "source": [
    "df_test[\"content\"].str.split().str.len().describe()"
   ]
  },
  {
   "cell_type": "code",
   "execution_count": 18,
   "metadata": {},
   "outputs": [],
   "source": [
    "def most_common_bigrams(df,columm):\n",
    "    df[columm]=df[columm].astype(str).fillna(\"\")\n",
    "    all_bigrams=df[columm].apply(lambda x: list(bigrams(word_tokenize(x)))) #finding all bigrams\n",
    "    list_of_bigrams = [x for sublist in all_bigrams for x in sublist]    # Make one list of all bigrams\n",
    "    bigram_counts = Counter(list_of_bigrams)     #Count bigrams\n",
    "    most_common_20=bigram_counts.most_common(20) #finding the 20 most common ones\n",
    "\n",
    "    return most_common_20"
   ]
  },
  {
   "cell_type": "code",
   "execution_count": 12,
   "metadata": {},
   "outputs": [
    {
     "name": "stdout",
     "output_type": "stream",
     "text": [
      "[(('health', 'care'), 401), (('cur', 'billion'), 364), (('barack', 'obama'), 347), (('unit', 'state'), 299), (('cur', 'million'), 272), (('hillari', 'clinton'), 190), (('presid', 'obama'), 159), (('presid', 'barack'), 157), (('last', 'year'), 137), (('donald', 'trump'), 133), (('social', 'secur'), 131), (('scott', 'walker'), 124), (('mitt', 'romney'), 122), (('health', 'insur'), 110), (('cur', 'trillion'), 107), (('rais', 'tax'), 103), (('rhode', 'island'), 101), (('say', 'presid'), 93), (('tax', 'cut'), 91), (('illeg', 'immigr'), 90)]\n"
     ]
    }
   ],
   "source": [
    "print(most_common_bigrams(df_liar,'Statement'))"
   ]
  },
  {
   "cell_type": "code",
   "execution_count": 49,
   "metadata": {},
   "outputs": [
    {
     "name": "stdout",
     "output_type": "stream",
     "text": [
      "[(('new', 'york'), 32437), (('continu', 'read'), 20524), (('unit', 'state'), 20176), (('main', 'stori'), 19701), (('read', 'main'), 19692), (('advertis', 'continu'), 13149), (('cur', 'million'), 10830), (('york', 'time'), 10511), (('suprem', 'leader'), 9846), (('last', 'year'), 8461), (('donald', 'trump'), 8457), (('cur', 'billion'), 7827), (('white', 'hous'), 7796), (('product', 'servic'), 7084), (('iran', 'nuclear'), 6919), (('offer', 'new'), 6748), (('view', 'new'), 6747), (('time', 'newslett'), 6742), (('pleas', 'tri'), 6719), (('islam', 'republ'), 6715)]\n"
     ]
    }
   ],
   "source": [
    "print(most_common_bigrams(df_test,'content'))"
   ]
  }
 ],
 "metadata": {
  "kernelspec": {
   "display_name": "base",
   "language": "python",
   "name": "python3"
  },
  "language_info": {
   "codemirror_mode": {
    "name": "ipython",
    "version": 3
   },
   "file_extension": ".py",
   "mimetype": "text/x-python",
   "name": "python",
   "nbconvert_exporter": "python",
   "pygments_lexer": "ipython3",
   "version": "3.12.7"
  }
 },
 "nbformat": 4,
 "nbformat_minor": 2
}
